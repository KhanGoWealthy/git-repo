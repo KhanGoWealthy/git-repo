{
 "cells": [
  {
   "cell_type": "code",
   "execution_count": null,
   "id": "88785016-71de-4f61-969f-da06995e5ffe",
   "metadata": {
    "tags": []
   },
   "outputs": [],
   "source": [
    "import rasterio\n",
    "import pandas as pd\n",
    "\n",
    "#place = \"Monavale Wetland\"\n",
    "#latitude = -17.80614377\n",
    "#longitude = 31.00746551\n",
    "place = \"Lake Chivero and Manyame\"\n",
    "latitud = -17.833930101649\n",
    "longitud = 30.65064239\n",
    "\n",
    "\n",
    "attributes = ['tmin', 'tmax', 'prec']\n",
    "years = [y for y in range(1960, 2021+1)]\n",
    "months = [m for m in range(1, 12+1)]\n",
    "df = pd.DataFrame(columns = ['year', 'month', 'location', 'tmin', 'tmax', 'prec'])\n",
    "value = []\n",
    "# functions, first one for get the number with two decimal places, and the second one is for get the data from .tif files\n",
    "def format_decimal_places(num, K):\n",
    "    formatted_num = f\"{num:.{K}f}\"\n",
    "    return formatted_num \n",
    "def get_data_from_city(place, lat, lon, file_path):\n",
    "    locations = {place : {\"lat\": lat, \"lon\": lon}}\n",
    "    with rasterio.open(file_path) as src:\n",
    "        for city, coords in locations.items():\n",
    "            x_pixel = int((coords[\"lon\"] + 180) * 24)\n",
    "            y_pixel = int((90 - coords[\"lat\"]) * 24)\n",
    "            data_value = format_decimal_places(src.read(1)[y_pixel, x_pixel], 2)\n",
    "            return data_value\n",
    "\n",
    "# for loops for reading year, month, and attributes\n",
    "for year in years:  \n",
    "    for month in months:          \n",
    "        for i in range(3):\n",
    "            file_path = f'./{attributes[i]}/wc2.1_2.5m_{attributes[i]}_{year}-{month :02d}.tif' # where the .tif files are\n",
    "            value.insert(i, get_data_from_city(place, latitude, longitude, file_path))\n",
    "        df.loc[len(df.index)] = [year, month, place, value[0], value[1], value[2]]\n",
    "print(df)\n"
   ]
  },
  {
   "cell_type": "code",
   "execution_count": null,
   "id": "a7444285-3c44-471f-97c3-efab8f5dd130",
   "metadata": {},
   "outputs": [],
   "source": []
  }
 ],
 "metadata": {
  "kernelspec": {
   "display_name": "Python 3 (ipykernel)",
   "language": "python",
   "name": "python3"
  },
  "language_info": {
   "codemirror_mode": {
    "name": "ipython",
    "version": 3
   },
   "file_extension": ".py",
   "mimetype": "text/x-python",
   "name": "python",
   "nbconvert_exporter": "python",
   "pygments_lexer": "ipython3",
   "version": "3.11.8"
  }
 },
 "nbformat": 4,
 "nbformat_minor": 5
}
