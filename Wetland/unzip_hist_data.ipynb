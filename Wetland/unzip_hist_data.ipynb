{
 "cells": [
  {
   "cell_type": "markdown",
   "id": "c4b214a4-a34a-4302-bbe0-650e15eb9975",
   "metadata": {},
   "source": [
    "# Download and upzip the Historical Data zipfiles"
   ]
  },
  {
   "cell_type": "markdown",
   "id": "381c2fef-59fa-48c8-a944-42edc5bb4862",
   "metadata": {},
   "source": [
    "### Environment: base\n",
    "\n",
    "Libraries are all pre-installed in Anaconda's base environment."
   ]
  },
  {
   "cell_type": "code",
   "execution_count": 1,
   "id": "7d8387da-575b-4ebc-baf8-5a6510e06da6",
   "metadata": {},
   "outputs": [],
   "source": [
    "import requests\n",
    "import zipfile\n",
    "import os\n",
    "from datetime import datetime"
   ]
  },
  {
   "cell_type": "markdown",
   "id": "38feb291-3afa-43c4-9fdd-2b4f5b106833",
   "metadata": {},
   "source": [
    "### download_and_unzip()\n",
    "\n",
    "This script defines a function to download and unzip multiple ZIP files from given URLs.\n",
    "\n",
    "Function:\n",
    "- download_and_unzip(zip_file_urls, download_directory): Downloads ZIP files from the specified URLs and extracts them into the given directory.\n",
    "\n",
    "Parameters:\n",
    "- zip_file_urls (list of str): A list of URLs pointing to the ZIP files you want to download.\n",
    "- download_directory (str): The path to the directory where you want to save the downloaded and extracted files.\n",
    "\n",
    "Notes:\n",
    "- The function prints out:\n",
    "    - the progress of downloading and unzipping files,\n",
    "    - the start time, end time, and time elapsed.\n",
    "- Downloaded ZIP files are deleted after extraction."
   ]
  },
  {
   "cell_type": "code",
   "execution_count": 9,
   "id": "a0dd89df-8ad5-4c71-82f1-5df841549282",
   "metadata": {},
   "outputs": [],
   "source": [
    "def download_and_unzip(zip_file_urls, download_directory):\n",
    "    '''\n",
    "    Usage Example:\n",
    "    zip_file_urls = ['http://example.com/file1.zip', 'http://example.com/file2.zip']\n",
    "    download_directory = '/path/to/your/directory'\n",
    "    download_and_unzip(zip_file_urls, download_directory)\n",
    "    '''\n",
    "\n",
    "    start_time = datetime.now()\n",
    "    print(f'Start time: {start_time.strftime(\"%Y-%m-%d %H:%M:%S\")}')\n",
    "\n",
    "    for url in zip_file_urls:\n",
    "        # Extract the file name from the URL\n",
    "        filename = url.split('/')[-1]\n",
    "        zip_path = os.path.join(download_directory, filename)\n",
    "\n",
    "        # Download the ZIP file\n",
    "        print(f'Downloading {filename}...')\n",
    "        response = requests.get(url)\n",
    "        with open(zip_path, 'wb') as f:\n",
    "            f.write(response.content)\n",
    "\n",
    "        # Unzip the file\n",
    "        print(f'Unzipping {filename}...')\n",
    "        with zipfile.ZipFile(zip_path, 'r') as zip_ref:\n",
    "            zip_ref.extractall(download_directory)\n",
    "\n",
    "        # Delete the ZIP file after extraction\n",
    "        os.remove(zip_path)\n",
    "        print(f'{filename} unzipped and deleted.')\n",
    "\n",
    "    end_time = datetime.now()\n",
    "    print(f'End time: {end_time.strftime(\"%Y-%m-%d %H:%M:%S\")}')\n",
    "    elapsed_time = end_time - start_time\n",
    "    print(f'All files downloaded and unzipped. Time elapsed: {elapsed_time}')\n"
   ]
  },
  {
   "cell_type": "markdown",
   "id": "b4bf11d4-f718-4592-a24d-b3c619d9742d",
   "metadata": {},
   "source": [
    "### Test\n",
    "\n",
    "Test with tmin 1980-1989.\n",
    "\n",
    "**NOTE: Be sure you have a folder in your current directory named 'temp'.**"
   ]
  },
  {
   "cell_type": "code",
   "execution_count": 10,
   "id": "ea78e970-8fa3-4323-b192-70c3a260a94a",
   "metadata": {},
   "outputs": [
    {
     "name": "stdout",
     "output_type": "stream",
     "text": [
      "Start time: 2024-04-01 06:20:18\n",
      "Downloading wc2.1_cruts4.06_2.5m_tmin_1980-1989.zip...\n",
      "Unzipping wc2.1_cruts4.06_2.5m_tmin_1980-1989.zip...\n",
      "wc2.1_cruts4.06_2.5m_tmin_1980-1989.zip unzipped and deleted.\n",
      "End time: 2024-04-01 06:21:00\n",
      "All files downloaded and unzipped. Time elapsed: 0:00:41.489263\n"
     ]
    }
   ],
   "source": [
    "zip_file_urls = ['https://geodata.ucdavis.edu/climate/worldclim/2_1/hist/cts4.06/2.5m/wc2.1_cruts4.06_2.5m_tmin_1980-1989.zip']\n",
    "download_directory = './temp'\n",
    "download_and_unzip(zip_file_urls, download_directory)"
   ]
  },
  {
   "cell_type": "markdown",
   "id": "c992caa4-09ec-4c1f-ab9c-aeff2b9a4e74",
   "metadata": {},
   "source": [
    "### Unzip tmin\n",
    "\n",
    "Unzip all tmin files to the **tmin** folder in the current directory.\n",
    "\n",
    "**NOTE: Be sure you have a folder in your current directory named 'tmin'.**"
   ]
  },
  {
   "cell_type": "code",
   "execution_count": 12,
   "id": "d7e11bb1-c9b6-42a8-9e94-9d41f9409198",
   "metadata": {},
   "outputs": [
    {
     "name": "stdout",
     "output_type": "stream",
     "text": [
      "Start time: 2024-04-01 06:29:39\n",
      "Downloading wc2.1_cruts4.06_2.5m_tmin_1960-1969.zip...\n",
      "Unzipping wc2.1_cruts4.06_2.5m_tmin_1960-1969.zip...\n",
      "wc2.1_cruts4.06_2.5m_tmin_1960-1969.zip unzipped and deleted.\n",
      "Downloading wc2.1_cruts4.06_2.5m_tmin_1970-1979.zip...\n",
      "Unzipping wc2.1_cruts4.06_2.5m_tmin_1970-1979.zip...\n",
      "wc2.1_cruts4.06_2.5m_tmin_1970-1979.zip unzipped and deleted.\n",
      "Downloading wc2.1_cruts4.06_2.5m_tmin_1980-1989.zip...\n",
      "Unzipping wc2.1_cruts4.06_2.5m_tmin_1980-1989.zip...\n",
      "wc2.1_cruts4.06_2.5m_tmin_1980-1989.zip unzipped and deleted.\n",
      "Downloading wc2.1_cruts4.06_2.5m_tmin_1990-1999.zip...\n",
      "Unzipping wc2.1_cruts4.06_2.5m_tmin_1990-1999.zip...\n",
      "wc2.1_cruts4.06_2.5m_tmin_1990-1999.zip unzipped and deleted.\n",
      "Downloading wc2.1_cruts4.06_2.5m_tmin_2000-2009.zip...\n",
      "Unzipping wc2.1_cruts4.06_2.5m_tmin_2000-2009.zip...\n",
      "wc2.1_cruts4.06_2.5m_tmin_2000-2009.zip unzipped and deleted.\n",
      "Downloading wc2.1_cruts4.06_2.5m_tmin_2010-2019.zip...\n",
      "Unzipping wc2.1_cruts4.06_2.5m_tmin_2010-2019.zip...\n",
      "wc2.1_cruts4.06_2.5m_tmin_2010-2019.zip unzipped and deleted.\n",
      "Downloading wc2.1_cruts4.06_2.5m_tmin_2020-2021.zip...\n",
      "Unzipping wc2.1_cruts4.06_2.5m_tmin_2020-2021.zip...\n",
      "wc2.1_cruts4.06_2.5m_tmin_2020-2021.zip unzipped and deleted.\n",
      "End time: 2024-04-01 06:34:19\n",
      "All files downloaded and unzipped. Time elapsed: 0:04:40.092831\n"
     ]
    }
   ],
   "source": [
    "base_url = \"https://geodata.ucdavis.edu/climate/worldclim/2_1/hist/cts4.06/2.5m/\"\n",
    "file_pattern = \"wc2.1_cruts4.06_2.5m_tmin_{}.zip\"\n",
    "\n",
    "decades = [(\"1960-1969\"), (\"1970-1979\"), (\"1980-1989\"), (\"1990-1999\"), (\"2000-2009\"), (\"2010-2019\"), (\"2020-2021\")]\n",
    "\n",
    "zip_file_urls = [base_url + file_pattern.format(decade) for decade in decades]\n",
    "\n",
    "download_directory = './tmin'\n",
    "download_and_unzip(zip_file_urls, download_directory)"
   ]
  },
  {
   "cell_type": "markdown",
   "id": "a06a2b7f-a45c-498f-b7ba-77b8db1d82a6",
   "metadata": {},
   "source": [
    "### Unzip tmax\n",
    "\n",
    "Unzip all tmax files to the **tmax** folder in the current directory.\n",
    "\n",
    "\n",
    "**NOTE: Be sure you have a folder in your current directory named 'tmax'.**"
   ]
  },
  {
   "cell_type": "code",
   "execution_count": 13,
   "id": "72a59d7c-bf8c-4239-b769-8a5d0276ca32",
   "metadata": {},
   "outputs": [
    {
     "name": "stdout",
     "output_type": "stream",
     "text": [
      "Start time: 2024-04-01 06:51:49\n",
      "Downloading wc2.1_cruts4.06_2.5m_tmax_1960-1969.zip...\n",
      "Unzipping wc2.1_cruts4.06_2.5m_tmax_1960-1969.zip...\n",
      "wc2.1_cruts4.06_2.5m_tmax_1960-1969.zip unzipped and deleted.\n",
      "Downloading wc2.1_cruts4.06_2.5m_tmax_1970-1979.zip...\n",
      "Unzipping wc2.1_cruts4.06_2.5m_tmax_1970-1979.zip...\n",
      "wc2.1_cruts4.06_2.5m_tmax_1970-1979.zip unzipped and deleted.\n",
      "Downloading wc2.1_cruts4.06_2.5m_tmax_1980-1989.zip...\n",
      "Unzipping wc2.1_cruts4.06_2.5m_tmax_1980-1989.zip...\n",
      "wc2.1_cruts4.06_2.5m_tmax_1980-1989.zip unzipped and deleted.\n",
      "Downloading wc2.1_cruts4.06_2.5m_tmax_1990-1999.zip...\n",
      "Unzipping wc2.1_cruts4.06_2.5m_tmax_1990-1999.zip...\n",
      "wc2.1_cruts4.06_2.5m_tmax_1990-1999.zip unzipped and deleted.\n",
      "Downloading wc2.1_cruts4.06_2.5m_tmax_2000-2009.zip...\n",
      "Unzipping wc2.1_cruts4.06_2.5m_tmax_2000-2009.zip...\n",
      "wc2.1_cruts4.06_2.5m_tmax_2000-2009.zip unzipped and deleted.\n",
      "Downloading wc2.1_cruts4.06_2.5m_tmax_2010-2019.zip...\n",
      "Unzipping wc2.1_cruts4.06_2.5m_tmax_2010-2019.zip...\n",
      "wc2.1_cruts4.06_2.5m_tmax_2010-2019.zip unzipped and deleted.\n",
      "Downloading wc2.1_cruts4.06_2.5m_tmax_2020-2021.zip...\n",
      "Unzipping wc2.1_cruts4.06_2.5m_tmax_2020-2021.zip...\n",
      "wc2.1_cruts4.06_2.5m_tmax_2020-2021.zip unzipped and deleted.\n",
      "End time: 2024-04-01 06:57:20\n",
      "All files downloaded and unzipped. Time elapsed: 0:05:31.150840\n"
     ]
    }
   ],
   "source": [
    "base_url = \"https://geodata.ucdavis.edu/climate/worldclim/2_1/hist/cts4.06/2.5m/\"\n",
    "file_pattern = \"wc2.1_cruts4.06_2.5m_tmax_{}.zip\"\n",
    "\n",
    "decades = [(\"1960-1969\"), (\"1970-1979\"), (\"1980-1989\"), (\"1990-1999\"), (\"2000-2009\"), (\"2010-2019\"), (\"2020-2021\")]\n",
    "\n",
    "zip_file_urls = [base_url + file_pattern.format(decade) for decade in decades]\n",
    "\n",
    "download_directory = './tmax'\n",
    "download_and_unzip(zip_file_urls, download_directory)"
   ]
  },
  {
   "cell_type": "markdown",
   "id": "ba132d0e-5987-4c57-8bf3-4e1f9e3e8396",
   "metadata": {},
   "source": [
    "### Unzip prec\n",
    "\n",
    "Unzip all prec files to the **prec** folder in the current directory.\n",
    "\n",
    "\n",
    "**NOTE: Be sure you have a folder in your current directory named 'prec'.**"
   ]
  },
  {
   "cell_type": "code",
   "execution_count": 14,
   "id": "feea5433-1450-4063-95a5-bf33bce6f778",
   "metadata": {},
   "outputs": [
    {
     "name": "stdout",
     "output_type": "stream",
     "text": [
      "Start time: 2024-04-01 06:57:56\n",
      "Downloading wc2.1_cruts4.06_2.5m_prec_1960-1969.zip...\n",
      "Unzipping wc2.1_cruts4.06_2.5m_prec_1960-1969.zip...\n",
      "wc2.1_cruts4.06_2.5m_prec_1960-1969.zip unzipped and deleted.\n",
      "Downloading wc2.1_cruts4.06_2.5m_prec_1970-1979.zip...\n",
      "Unzipping wc2.1_cruts4.06_2.5m_prec_1970-1979.zip...\n",
      "wc2.1_cruts4.06_2.5m_prec_1970-1979.zip unzipped and deleted.\n",
      "Downloading wc2.1_cruts4.06_2.5m_prec_1980-1989.zip...\n",
      "Unzipping wc2.1_cruts4.06_2.5m_prec_1980-1989.zip...\n",
      "wc2.1_cruts4.06_2.5m_prec_1980-1989.zip unzipped and deleted.\n",
      "Downloading wc2.1_cruts4.06_2.5m_prec_1990-1999.zip...\n",
      "Unzipping wc2.1_cruts4.06_2.5m_prec_1990-1999.zip...\n",
      "wc2.1_cruts4.06_2.5m_prec_1990-1999.zip unzipped and deleted.\n",
      "Downloading wc2.1_cruts4.06_2.5m_prec_2000-2009.zip...\n",
      "Unzipping wc2.1_cruts4.06_2.5m_prec_2000-2009.zip...\n",
      "wc2.1_cruts4.06_2.5m_prec_2000-2009.zip unzipped and deleted.\n",
      "Downloading wc2.1_cruts4.06_2.5m_prec_2010-2019.zip...\n",
      "Unzipping wc2.1_cruts4.06_2.5m_prec_2010-2019.zip...\n",
      "wc2.1_cruts4.06_2.5m_prec_2010-2019.zip unzipped and deleted.\n",
      "Downloading wc2.1_cruts4.06_2.5m_prec_2020-2021.zip...\n",
      "Unzipping wc2.1_cruts4.06_2.5m_prec_2020-2021.zip...\n",
      "wc2.1_cruts4.06_2.5m_prec_2020-2021.zip unzipped and deleted.\n",
      "End time: 2024-04-01 07:17:58\n",
      "All files downloaded and unzipped. Time elapsed: 0:20:01.775185\n"
     ]
    }
   ],
   "source": [
    "base_url = \"https://geodata.ucdavis.edu/climate/worldclim/2_1/hist/cts4.06/2.5m/\"\n",
    "file_pattern = \"wc2.1_cruts4.06_2.5m_prec_{}.zip\"\n",
    "\n",
    "decades = [(\"1960-1969\"), (\"1970-1979\"), (\"1980-1989\"), (\"1990-1999\"), (\"2000-2009\"), (\"2010-2019\"), (\"2020-2021\")]\n",
    "\n",
    "zip_file_urls = [base_url + file_pattern.format(decade) for decade in decades]\n",
    "\n",
    "download_directory = './prec'\n",
    "download_and_unzip(zip_file_urls, download_directory)"
   ]
  },
  {
   "cell_type": "code",
   "execution_count": null,
   "id": "44f131eb-0608-4cbc-873e-b159b470170e",
   "metadata": {},
   "outputs": [],
   "source": []
  }
 ],
 "metadata": {
  "kernelspec": {
   "display_name": "Python 3 (ipykernel)",
   "language": "python",
   "name": "python3"
  },
  "language_info": {
   "codemirror_mode": {
    "name": "ipython",
    "version": 3
   },
   "file_extension": ".py",
   "mimetype": "text/x-python",
   "name": "python",
   "nbconvert_exporter": "python",
   "pygments_lexer": "ipython3",
   "version": "3.11.8"
  }
 },
 "nbformat": 4,
 "nbformat_minor": 5
}
