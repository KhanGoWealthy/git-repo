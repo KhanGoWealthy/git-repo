{
 "cells": [
  {
   "attachments": {},
   "cell_type": "markdown",
   "id": "31cefabf-27d5-47b8-9b47-d1ef42bc54c9",
   "metadata": {},
   "source": [
    "## Code to mask a GeoTIFF with a shapefile.\n",
    "\n",
    "- Shapefiles are vector-based regional boundaries for a region. They require GeoPandas library, which is similar to Pandas.\n",
    "- A \"masked\" GeoTIFF only contains data within that region.\n",
    "- *NOTE: GeoPandas and Rasterio are not compatibile in the most recent version of Python.*\n",
    "\n",
    "***This code requires an environment that uses Python 3.9***\n"
   ]
  },
  {
   "cell_type": "markdown",
   "id": "969c355d-2a9a-4cfe-8c1c-de688d3f9c05",
   "metadata": {},
   "source": [
    "Read the shapefile and select the administrative boundary."
   ]
  },
  {
   "cell_type": "code",
   "execution_count": 39,
   "id": "3b097fad-e337-444f-a994-0ea6cb6aea03",
   "metadata": {},
   "outputs": [
    {
     "data": {
      "text/html": [
       "<div>\n",
       "<style scoped>\n",
       "    .dataframe tbody tr th:only-of-type {\n",
       "        vertical-align: middle;\n",
       "    }\n",
       "\n",
       "    .dataframe tbody tr th {\n",
       "        vertical-align: top;\n",
       "    }\n",
       "\n",
       "    .dataframe thead th {\n",
       "        text-align: right;\n",
       "    }\n",
       "</style>\n",
       "<table border=\"1\" class=\"dataframe\">\n",
       "  <thead>\n",
       "    <tr style=\"text-align: right;\">\n",
       "      <th></th>\n",
       "      <th>Shape_Leng</th>\n",
       "      <th>Shape_Area</th>\n",
       "      <th>ADM0_EN</th>\n",
       "      <th>ADM0_PCODE</th>\n",
       "      <th>ADM0_REF</th>\n",
       "      <th>ADM0ALT1EN</th>\n",
       "      <th>ADM0ALT2EN</th>\n",
       "      <th>date</th>\n",
       "      <th>validOn</th>\n",
       "      <th>validTo</th>\n",
       "      <th>geometry</th>\n",
       "    </tr>\n",
       "  </thead>\n",
       "  <tbody>\n",
       "    <tr>\n",
       "      <th>0</th>\n",
       "      <td>29.959574</td>\n",
       "      <td>33.540878</td>\n",
       "      <td>Zimbabwe</td>\n",
       "      <td>ZW</td>\n",
       "      <td>None</td>\n",
       "      <td>None</td>\n",
       "      <td>None</td>\n",
       "      <td>2018-08-31</td>\n",
       "      <td>2018-09-11</td>\n",
       "      <td>None</td>\n",
       "      <td>POLYGON ((29.83081 -15.60714, 29.83090 -15.607...</td>\n",
       "    </tr>\n",
       "  </tbody>\n",
       "</table>\n",
       "</div>"
      ],
      "text/plain": [
       "   Shape_Leng  Shape_Area   ADM0_EN ADM0_PCODE ADM0_REF ADM0ALT1EN ADM0ALT2EN  \\\n",
       "0   29.959574   33.540878  Zimbabwe         ZW     None       None       None   \n",
       "\n",
       "         date     validOn validTo  \\\n",
       "0  2018-08-31  2018-09-11    None   \n",
       "\n",
       "                                            geometry  \n",
       "0  POLYGON ((29.83081 -15.60714, 29.83090 -15.607...  "
      ]
     },
     "execution_count": 39,
     "metadata": {},
     "output_type": "execute_result"
    }
   ],
   "source": [
    "import geopandas as gpd\n",
    "import rasterio\n",
    "from rasterio.mask import mask\n",
    "import numpy as np\n",
    "import matplotlib.pyplot as plt\n",
    "\n",
    "# Load the shapefile\n",
    "# Zimbabwe Boundaries - national (adm0). (Humdata, 2023)\n",
    "# Source: https://data.humdata.org/dataset/cod-ab-zwe\n",
    "admin = gpd.read_file(\"zwe_admbnda_adm0_zimstat_ocha_20180911.shp\")\n",
    "\n",
    "# Print the first five rows of the attribute table\n",
    "admin.head()\n"
   ]
  },
  {
   "cell_type": "markdown",
   "id": "5e92d606-aeed-4068-8674-64ce298f266e",
   "metadata": {},
   "source": [
    "Read the GeoTIFF file and check the metadata."
   ]
  },
  {
   "cell_type": "code",
   "execution_count": 33,
   "id": "891d4d67-c4e6-4a06-a6cb-09fe1ed04c46",
   "metadata": {},
   "outputs": [
    {
     "name": "stdout",
     "output_type": "stream",
     "text": [
      "\n",
      "Metadata using .profile:\n",
      "{'driver': 'GTiff', 'dtype': 'float32', 'nodata': nan, 'width': 8640, 'height': 4320, 'count': 1, 'crs': CRS.from_epsg(4326), 'transform': Affine(0.041666666666666664, 0.0, -180.0,\n",
      "       0.0, -0.041666666666666664, 90.0), 'tiled': False, 'compress': 'lzw', 'interleave': 'band'}\n"
     ]
    }
   ],
   "source": [
    "# Check the metadata of the GeoTIFF file\n",
    "with rasterio.open(\"wc2.1_2.5m_tmin_1960-01.tif\") as src:\n",
    "    # Access metadata using .profile\n",
    "    profile = src.profile\n",
    "    print(\"\\nMetadata using .profile:\")\n",
    "    print(profile)\n"
   ]
  },
  {
   "cell_type": "code",
   "execution_count": 34,
   "id": "82198f13-3be8-4648-8953-112844c82bf4",
   "metadata": {},
   "outputs": [
    {
     "name": "stdout",
     "output_type": "stream",
     "text": [
      "Nodata value is set to: nan\n",
      "Width: 8640\n",
      "Height: 4320\n",
      "Number of bands: 1\n",
      "Coordinate Reference System (CRS): EPSG:4326\n",
      "Affine Transform: \n",
      "| 0.04, 0.00,-180.00|\n",
      "| 0.00,-0.04, 90.00|\n",
      "| 0.00, 0.00, 1.00|\n",
      "Data type: ('float32',)\n",
      "Bounding box: BoundingBox(left=-180.0, bottom=-90.0, right=180.0, top=90.0)\n",
      "No data value: (nan,)\n",
      "Scale: (1.0,)\n",
      "Offset: (0.0,)\n"
     ]
    }
   ],
   "source": [
    "# Display the relevant values\n",
    "with rasterio.open(\"wc2.1_2.5m_tmin_1960-01.tif\") as src:\n",
    "    print(f\"Nodata value is set to: {src.nodata}\")\n",
    "    print(f\"Width: {src.width}\")\n",
    "    print(f\"Height: {src.height}\")\n",
    "    print(f\"Number of bands: {src.count}\")\n",
    "    print(f\"Coordinate Reference System (CRS): {src.crs}\")\n",
    "    print(f\"Affine Transform: \\n{src.transform}\")\n",
    "    print(f\"Data type: {src.dtypes}\")\n",
    "    print(f\"Bounding box: {src.bounds}\")\n",
    "    print(f\"No data value: {src.nodatavals}\")\n",
    "    print(f\"Scale: {src.scales}\")\n",
    "    print(f\"Offset: {src.offsets}\")"
   ]
  },
  {
   "cell_type": "markdown",
   "id": "1c9964a6-8a6c-4cc1-92a7-2d676a230530",
   "metadata": {},
   "source": [
    "Mask the GeoTiff data to only display data in the desired region."
   ]
  },
  {
   "cell_type": "code",
   "execution_count": 38,
   "id": "9f7a4828-1b6b-41fa-b6fe-fb563a12a2ad",
   "metadata": {},
   "outputs": [
    {
     "data": {
      "image/png": "[encoded data removed]",
      "text/plain": [
       "<Figure size 1000x1000 with 2 Axes>"
      ]
     },
     "metadata": {},
     "output_type": "display_data"
    }
   ],
   "source": [
    "# Define the region\n",
    "region = admin[admin['ADM0_EN'] == 'Zimbabwe']\n",
    "\n",
    "# Open the GeoTIFF file\n",
    "with rasterio.open(\"wc2.1_2.5m_tmin_1960-01.tif\") as src:\n",
    "    # Convert the region's geometry to GeoJSON format\n",
    "    geojson = [region.geometry.to_crs(src.crs).iloc[0].__geo_interface__]\n",
    "    \n",
    "    # Mask the GeoTIFF with the district polygon\n",
    "    out_image, out_transform = mask(src, geojson, crop=True)\n",
    "    # out_image now contains the climate data for only the specified the region\n",
    "\n",
    "    # Plot\n",
    "    fig, ax = plt.subplots(figsize=(10, 10))\n",
    "    # Display the image\n",
    "    # Note: out_image is a 3-dimensional array (1, height, width), so we use [0] to select the 2D data array.\n",
    "    img = ax.imshow(out_image[0], cmap='RdBu')\n",
    "    ax.set_title(\"Minimum Temperature Map for Zimbabwe, January 1960\")\n",
    "    # Optionally, add a color bar\n",
    "    fig.colorbar(img, ax=ax, shrink=0.5, aspect=20)\n",
    "    plt.show()"
   ]
  },
  {
   "cell_type": "code",
   "execution_count": 37,
   "id": "44697432-35d6-49a5-bec2-60ef6a4219ca",
   "metadata": {},
   "outputs": [
    {
     "name": "stdout",
     "output_type": "stream",
     "text": [
      "Average Value: 16.548716\n"
     ]
    }
   ],
   "source": [
    "# Calculate the average, ignoring nan values if necessary\n",
    "average_value = np.nanmean(out_image)\n",
    "print(\"Average Value:\", average_value)"
   ]
  },
  {
   "cell_type": "code",
   "execution_count": null,
   "id": "ba87b292-e4c3-4cdc-8389-bb478c6a8828",
   "metadata": {},
   "outputs": [],
   "source": []
  }
 ],
 "metadata": {
  "kernelspec": {
   "display_name": "Python 3 (ipykernel)",
   "language": "python",
   "name": "python3"
  },
  "language_info": {
   "codemirror_mode": {
    "name": "ipython",
    "version": 3
   },
   "file_extension": ".py",
   "mimetype": "text/x-python",
   "name": "python",
   "nbconvert_exporter": "python",
   "pygments_lexer": "ipython3",
   "version": "3.11.8"
  }
 },
 "nbformat": 4,
 "nbformat_minor": 5
}
