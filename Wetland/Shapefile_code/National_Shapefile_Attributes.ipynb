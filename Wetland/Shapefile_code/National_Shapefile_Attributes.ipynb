{
 "cells": [
  {
   "cell_type": "markdown",
   "id": "8f091ba8-0b1f-4517-94ba-cca7b6fdef55",
   "metadata": {},
   "source": [
    "## National Shapefile Attributes"
   ]
  },
  {
   "cell_type": "markdown",
   "id": "1da2f455-c749-4c1c-b248-62c94fa22c84",
   "metadata": {},
   "source": [
    "### This code reads, analyzes, and plots a shapefile.\n",
    "\n",
    "- Shapefiles are vector-based regional boundaries for a region. They require GeoPandas library, which is similar to Pandas.\n",
    "- *NOTE: GeoPandas and Rasterio are not compatibile in the most recent version of Python.*\n",
    "   \n",
    "***Recommended Python version: 3.9***"
   ]
  },
  {
   "cell_type": "markdown",
   "id": "fe5bdcf2-cfc2-4803-8283-892a354f5213",
   "metadata": {},
   "source": [
    "Zimbabwe Boundaries - national (adm0). (Humdata, 2023)\n",
    "\n",
    "Source: https://data.humdata.org/dataset/cod-ab-zwe"
   ]
  },
  {
   "cell_type": "code",
   "execution_count": 3,
   "id": "6b3c10ad-991a-4580-942d-85b9d7e20232",
   "metadata": {},
   "outputs": [
    {
     "data": {
      "text/html": [
       "<div>\n",
       "<style scoped>\n",
       "    .dataframe tbody tr th:only-of-type {\n",
       "        vertical-align: middle;\n",
       "    }\n",
       "\n",
       "    .dataframe tbody tr th {\n",
       "        vertical-align: top;\n",
       "    }\n",
       "\n",
       "    .dataframe thead th {\n",
       "        text-align: right;\n",
       "    }\n",
       "</style>\n",
       "<table border=\"1\" class=\"dataframe\">\n",
       "  <thead>\n",
       "    <tr style=\"text-align: right;\">\n",
       "      <th></th>\n",
       "      <th>Shape_Leng</th>\n",
       "      <th>Shape_Area</th>\n",
       "      <th>ADM0_EN</th>\n",
       "      <th>ADM0_PCODE</th>\n",
       "      <th>ADM0_REF</th>\n",
       "      <th>ADM0ALT1EN</th>\n",
       "      <th>ADM0ALT2EN</th>\n",
       "      <th>date</th>\n",
       "      <th>validOn</th>\n",
       "      <th>validTo</th>\n",
       "      <th>geometry</th>\n",
       "    </tr>\n",
       "  </thead>\n",
       "  <tbody>\n",
       "    <tr>\n",
       "      <th>0</th>\n",
       "      <td>29.959574</td>\n",
       "      <td>33.540878</td>\n",
       "      <td>Zimbabwe</td>\n",
       "      <td>ZW</td>\n",
       "      <td>None</td>\n",
       "      <td>None</td>\n",
       "      <td>None</td>\n",
       "      <td>2018-08-31</td>\n",
       "      <td>2018-09-11</td>\n",
       "      <td>None</td>\n",
       "      <td>POLYGON ((29.83081 -15.60714, 29.83090 -15.607...</td>\n",
       "    </tr>\n",
       "  </tbody>\n",
       "</table>\n",
       "</div>"
      ],
      "text/plain": [
       "   Shape_Leng  Shape_Area   ADM0_EN ADM0_PCODE ADM0_REF ADM0ALT1EN ADM0ALT2EN  \\\n",
       "0   29.959574   33.540878  Zimbabwe         ZW     None       None       None   \n",
       "\n",
       "         date     validOn validTo  \\\n",
       "0  2018-08-31  2018-09-11    None   \n",
       "\n",
       "                                            geometry  \n",
       "0  POLYGON ((29.83081 -15.60714, 29.83090 -15.607...  "
      ]
     },
     "execution_count": 3,
     "metadata": {},
     "output_type": "execute_result"
    }
   ],
   "source": [
    "import geopandas as gpd\n",
    "\n",
    "# Load the national shapefile\n",
    "national_shapefile = gpd.read_file(\"zwe_admbnda_adm0_zimstat_ocha_20180911.shp\")\n",
    "\n",
    "# Print the first five rows of the attribute table\n",
    "national_shapefile.head()"
   ]
  },
  {
   "cell_type": "markdown",
   "id": "8f2c0722-2541-4550-b005-c06e0c991130",
   "metadata": {},
   "source": [
    "Explore attributes and metadata."
   ]
  },
  {
   "cell_type": "code",
   "execution_count": 4,
   "id": "ca1bea35-604f-4828-917a-242168872949",
   "metadata": {},
   "outputs": [
    {
     "name": "stdout",
     "output_type": "stream",
     "text": [
      "Total Features:\n",
      "1\n",
      "\n",
      "Geometry Types:\n",
      "['Polygon']\n",
      "\n",
      "Coordinate Reference System (CRS):\n",
      "epsg:4326\n",
      "\n",
      "Extent of Geometries:\n",
      "[ 25.23759718 -22.42104926  33.06717812 -15.60714303]\n",
      "\n",
      "Attribute Columns:\n",
      "['Shape_Leng', 'Shape_Area', 'ADM0_EN', 'ADM0_PCODE', 'ADM0_REF', 'ADM0ALT1EN', 'ADM0ALT2EN', 'date', 'validOn', 'validTo', 'geometry']\n",
      "\n",
      "Sample Rows:\n",
      "   Shape_Leng  Shape_Area   ADM0_EN ADM0_PCODE ADM0_REF ADM0ALT1EN ADM0ALT2EN  \\\n",
      "0   29.959574   33.540878  Zimbabwe         ZW     None       None       None   \n",
      "\n",
      "         date     validOn validTo  \\\n",
      "0  2018-08-31  2018-09-11    None   \n",
      "\n",
      "                                            geometry  \n",
      "0  POLYGON ((29.83081 -15.60714, 29.83090 -15.607...  \n",
      "\n",
      "Data Types of Columns:\n",
      "Shape_Leng     float64\n",
      "Shape_Area     float64\n",
      "ADM0_EN         object\n",
      "ADM0_PCODE      object\n",
      "ADM0_REF        object\n",
      "ADM0ALT1EN      object\n",
      "ADM0ALT2EN      object\n",
      "date            object\n",
      "validOn         object\n",
      "validTo         object\n",
      "geometry      geometry\n",
      "dtype: object\n",
      "\n",
      "Missing Data by Column:\n",
      "Shape_Leng    0\n",
      "Shape_Area    0\n",
      "ADM0_EN       0\n",
      "ADM0_PCODE    0\n",
      "ADM0_REF      1\n",
      "ADM0ALT1EN    1\n",
      "ADM0ALT2EN    1\n",
      "date          0\n",
      "validOn       0\n",
      "validTo       1\n",
      "geometry      0\n",
      "dtype: int64\n",
      "\n"
     ]
    }
   ],
   "source": [
    "# Constructing the metadata summary\n",
    "metadata_summary = {\n",
    "    \"Total Features\": len(national_shapefile),\n",
    "    \"Geometry Types\": national_shapefile.geom_type.unique(),\n",
    "    \"Coordinate Reference System (CRS)\": national_shapefile.crs,\n",
    "    \"Extent of Geometries\": national_shapefile.total_bounds,\n",
    "    \"Attribute Columns\": national_shapefile.columns.tolist(),\n",
    "    \"Sample Rows\": national_shapefile.head(20),\n",
    "    \"Data Types of Columns\": national_shapefile.dtypes,\n",
    "    \"Missing Data by Column\": national_shapefile.isnull().sum()\n",
    "}\n",
    "\n",
    "# To display the metadata summary, iterate through the dictionary\n",
    "for key, value in metadata_summary.items():\n",
    "    print(f\"{key}:\\n{value}\\n\")\n"
   ]
  },
  {
   "cell_type": "code",
   "execution_count": 5,
   "id": "2cd2a283-8e6e-4513-9433-b5cd4c2e0199",
   "metadata": {},
   "outputs": [
    {
     "data": {
      "image/png": "[encoded data removed]",
      "text/plain": [
       "<Figure size 640x480 with 1 Axes>"
      ]
     },
     "metadata": {},
     "output_type": "display_data"
    }
   ],
   "source": [
    "import matplotlib.pyplot as plt\n",
    "\n",
    "# Plot the national boundary\n",
    "national_shapefile.plot()\n",
    "plt.title(\"National Boundary\")\n",
    "plt.xlabel(\"Longitude\")\n",
    "plt.ylabel(\"Latitude\")\n",
    "plt.show()\n"
   ]
  },
  {
   "cell_type": "code",
   "execution_count": null,
   "id": "87369bc8-999d-4978-a00b-0a5afc673ab0",
   "metadata": {},
   "outputs": [],
   "source": []
  }
 ],
 "metadata": {
  "kernelspec": {
   "display_name": "Python 3 (ipykernel)",
   "language": "python",
   "name": "python3"
  },
  "language_info": {
   "codemirror_mode": {
    "name": "ipython",
    "version": 3
   },
   "file_extension": ".py",
   "mimetype": "text/x-python",
   "name": "python",
   "nbconvert_exporter": "python",
   "pygments_lexer": "ipython3",
   "version": "3.11.8"
  }
 },
 "nbformat": 4,
 "nbformat_minor": 5
}
